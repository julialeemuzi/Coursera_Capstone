{
 "cells": [
  {
   "cell_type": "markdown",
   "metadata": {},
   "source": [
    "# Introduction"
   ]
  },
  {
   "cell_type": "markdown",
   "metadata": {},
   "source": [
    "New York City is one of the largest cities in the world with 8 million people. There are five boroughs: Manhattan, Brooklyn, Queens, Bronx, and Staten Island. As a resident in NYC, I decided to explore this city in my project. One interesting idea would be, if one wants to purchase an apartment in New York City, what are the best neighborhood to consider? The tradeoff is usually between price and convenience. The more centrally located neighborhoods with a lot of restaurants and grocery stores are often more expensive, while more affordable neighborhoods tend to be further from the city center, less convenient with less shops and restaurants. \n",
    "\n",
    "With all the above in mind, I will create a ranking of neighborhoods according to their housing prices, distance to city center, number of shops, restaurants, and grocery stores. For simplicity, I will only consider the neighborhoods in Manhattan."
   ]
  },
  {
   "cell_type": "markdown",
   "metadata": {},
   "source": [
    "# Data"
   ]
  },
  {
   "cell_type": "markdown",
   "metadata": {},
   "source": [
    "The data to explore this question come from below sources:\n",
    "\n",
    "**1.Housing price data**\n",
    "\n",
    "Housing price data is downloaded from StreetEasy Data Dashboard: https://streeteasy.com/blog/data-dashboard/. It provides downloadable csv files for price index, median sale price, median asking price for each neighborhood. Since median sale price and median asking price has missing data for any given month, and we do not care about absolute value of housing price for this project, I will just use price index.\n",
    "\n",
    "**2.Venue data**\n",
    "\n",
    "I use Foursquare API to get venue data such as the number of shops, restaurants and grocery stores in each neighborhood.\n",
    "\n",
    "**3.Distance data**\n",
    "\n",
    "I use Google map to get distance to city center data for each neighborhood. The official New York City coordinates are those of the city hall, but most professional people work around midtown, and when we consider distance to center we are mostly concerned about commute for work, so I use midtown Manhattan coordinates 40.7549° N, 73.9840° W to calculate distance to center."
   ]
  },
  {
   "cell_type": "code",
   "execution_count": null,
   "metadata": {
    "collapsed": true
   },
   "outputs": [],
   "source": []
  }
 ],
 "metadata": {
  "kernelspec": {
   "display_name": "Python 3",
   "language": "python",
   "name": "python3"
  },
  "language_info": {
   "codemirror_mode": {
    "name": "ipython",
    "version": 3
   },
   "file_extension": ".py",
   "mimetype": "text/x-python",
   "name": "python",
   "nbconvert_exporter": "python",
   "pygments_lexer": "ipython3",
   "version": "3.6.3"
  }
 },
 "nbformat": 4,
 "nbformat_minor": 2
}
